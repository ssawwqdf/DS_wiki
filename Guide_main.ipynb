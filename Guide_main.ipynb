{
 "cells": [
  {
   "cell_type": "markdown",
   "id": "29cbbf05-7816-46b9-a60f-c76bd1058d42",
   "metadata": {},
   "source": [
    "# 개념정리 할 것들"
   ]
  },
  {
   "cell_type": "markdown",
   "id": "6c8784aa-1818-4b2d-995e-2fc7973113be",
   "metadata": {},
   "source": [
    "* 회귀 : 모델개념(선형,Lasso,다항회귀,규제...), 모델 소개 및 활용\n",
    "* 분류 : 모델개념(의사결정나무,로지스틱...),평가(정확도/정밀도/재현율/ROC/AUC), 모델 소개 및 활용\n",
    "* 군집화 : 모델개념(DBSCAN, K-MEANS...), 모델 소개 및 활용\n",
    "* 불균형 데이터 처리: Over/Under sampling\n",
    "* 앙상블 : 스태킹, voting, bagging\n",
    "* 스케일링 : standard, minmax, log\n",
    "* 차원축소 : pca\n",
    "* 튜닝 : Optuna, GridsearchCV\n",
    "* 교차검증 : Kfold, Stratified K Fold"
   ]
  },
  {
   "cell_type": "markdown",
   "id": "7437be2d-d802-40c7-a340-bf69ab5060b2",
   "metadata": {},
   "source": [
    "# 공모전 가이드라인"
   ]
  },
  {
   "cell_type": "markdown",
   "id": "2fca732b-3cbb-43a0-afe8-8ad4aa8e6889",
   "metadata": {},
   "source": [
    "## DATA LOAD"
   ]
  },
  {
   "cell_type": "markdown",
   "id": "39f6cf57-b00e-4fe8-a111-96bd4a387650",
   "metadata": {},
   "source": [
    "## EDA"
   ]
  },
  {
   "cell_type": "markdown",
   "id": "d3af12e2-49fd-4115-b486-a635b229831f",
   "metadata": {},
   "source": [
    "### 수치화, 범주화"
   ]
  },
  {
   "cell_type": "markdown",
   "id": "7be7bb14-a3c8-4ab6-bb26-f51b59900fc6",
   "metadata": {},
   "source": [
    "### 결측치 처리"
   ]
  },
  {
   "cell_type": "markdown",
   "id": "386e4d1a-48f3-472d-8c73-5499015bb27a",
   "metadata": {},
   "source": [
    "### 이상치 처리"
   ]
  },
  {
   "cell_type": "markdown",
   "id": "ad5b2e3b-733e-4693-9f4b-7a7f749fe75b",
   "metadata": {},
   "source": [
    "## 피쳐 가공"
   ]
  },
  {
   "cell_type": "markdown",
   "id": "f84b9414-c025-46bd-84ca-24f888f880fe",
   "metadata": {},
   "source": [
    "### 파생변수 "
   ]
  },
  {
   "cell_type": "markdown",
   "id": "0341404a-39f4-49d0-8232-7e39c2fdd1cf",
   "metadata": {},
   "source": [
    "### PCA"
   ]
  },
  {
   "cell_type": "markdown",
   "id": "adcc26c0-db09-4a85-8143-04270b4771fc",
   "metadata": {},
   "source": [
    "### 스케일링"
   ]
  },
  {
   "cell_type": "markdown",
   "id": "5cd4f36e-3dca-440d-8212-fe02d01fbd70",
   "metadata": {},
   "source": [
    "## 학습/평가 "
   ]
  },
  {
   "cell_type": "markdown",
   "id": "4dbe6af4-dd74-4161-b453-c34ded76098e",
   "metadata": {},
   "source": [
    "### Pycaret - 모델 선정"
   ]
  },
  {
   "cell_type": "markdown",
   "id": "d1a3e4c5-a820-4415-9de8-66c9eb1eba36",
   "metadata": {},
   "source": [
    "### 모델링 - 앙상블"
   ]
  },
  {
   "cell_type": "markdown",
   "id": "ccb25ea3-45d2-4b55-b1b6-f597c16b8576",
   "metadata": {},
   "source": [
    "### 튜닝"
   ]
  },
  {
   "cell_type": "markdown",
   "id": "def73e04-b9a9-4c15-8526-da8a2a0099b8",
   "metadata": {},
   "source": [
    "## Submit"
   ]
  }
 ],
 "metadata": {
  "kernelspec": {
   "display_name": "Python 3 (ipykernel)",
   "language": "python",
   "name": "python3"
  },
  "language_info": {
   "codemirror_mode": {
    "name": "ipython",
    "version": 3
   },
   "file_extension": ".py",
   "mimetype": "text/x-python",
   "name": "python",
   "nbconvert_exporter": "python",
   "pygments_lexer": "ipython3",
   "version": "3.8.8"
  }
 },
 "nbformat": 4,
 "nbformat_minor": 5
}

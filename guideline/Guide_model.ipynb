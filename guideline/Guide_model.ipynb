{
 "cells": [
  {
   "cell_type": "markdown",
   "id": "2857a3a4-c712-48e3-9b2e-22742542ddc9",
   "metadata": {},
   "source": [
    "<양식>"
   ]
  },
  {
   "cell_type": "markdown",
   "id": "58381f8d-6b55-40eb-98c2-53834023a382",
   "metadata": {},
   "source": [
    "# 제목 개념(ex. 회귀란.. 분류란..)"
   ]
  },
  {
   "cell_type": "markdown",
   "id": "7fb8a95f-5421-4100-b2eb-cdf9820ae485",
   "metadata": {},
   "source": [
    "^^ 이런 데이터셋으로 실습해봅시다 ^^  \n",
    "사용 데이터셋: 어쩌고  \n",
    "임포트"
   ]
  },
  {
   "cell_type": "markdown",
   "id": "c40032df-1f30-480c-9390-559486c966dd",
   "metadata": {},
   "source": [
    "## 중개념1(ex.회귀분석), 원리"
   ]
  },
  {
   "cell_type": "code",
   "execution_count": 8,
   "id": "a8ed2e43-c73b-4eb6-9ddf-b9e4caf7bb16",
   "metadata": {},
   "outputs": [],
   "source": [
    "### "
   ]
  },
  {
   "cell_type": "markdown",
   "id": "76bd3940-8dc0-4ed1-b05e-c5e1e7298a38",
   "metadata": {},
   "source": [
    "### 알아서 추가\n",
    "* Ref. 주소"
   ]
  },
  {
   "cell_type": "code",
   "execution_count": null,
   "id": "f27145b0-8827-4d1a-b138-7733af41ea37",
   "metadata": {},
   "outputs": [],
   "source": []
  },
  {
   "cell_type": "markdown",
   "id": "d0ead318-5642-4459-93b9-087846440976",
   "metadata": {},
   "source": [
    "## 중개념2(ex. 다항회귀), 원리"
   ]
  },
  {
   "cell_type": "code",
   "execution_count": null,
   "id": "549e4c79-c493-431a-8010-4b76d488623c",
   "metadata": {},
   "outputs": [],
   "source": []
  },
  {
   "cell_type": "code",
   "execution_count": null,
   "id": "36705d32-33f5-4445-b703-2721a4a05f19",
   "metadata": {},
   "outputs": [],
   "source": []
  },
  {
   "cell_type": "markdown",
   "id": "599bf1c8-39c1-483d-84ab-d0d662334b1f",
   "metadata": {},
   "source": [
    "# 모델 설명"
   ]
  },
  {
   "cell_type": "markdown",
   "id": "87cb0427-75a2-4959-b4ae-eccd681b2740",
   "metadata": {},
   "source": [
    "이런이런 모델이 있다."
   ]
  },
  {
   "cell_type": "markdown",
   "id": "059c11e2-9b04-419e-b6af-3375cc30e160",
   "metadata": {},
   "source": [
    "## 모델1"
   ]
  },
  {
   "cell_type": "markdown",
   "id": "e6926527-d5a3-4693-b2b4-0a126f11e1d8",
   "metadata": {},
   "source": [
    "### API 스샷 -> 예시 코드"
   ]
  },
  {
   "cell_type": "code",
   "execution_count": null,
   "id": "897c8e66-7e2a-40d0-afbf-18f9e8b5babf",
   "metadata": {},
   "outputs": [],
   "source": []
  },
  {
   "cell_type": "markdown",
   "id": "934ccfb6-b828-4328-a534-abc9a0ac685f",
   "metadata": {},
   "source": [
    "### 파라미터 설명"
   ]
  },
  {
   "cell_type": "code",
   "execution_count": null,
   "id": "e509fd5c-f018-4333-9f56-5d2bfb66dab4",
   "metadata": {},
   "outputs": [],
   "source": []
  },
  {
   "cell_type": "markdown",
   "id": "9c45ef1d-170d-4b7f-a156-4a6d77b771c4",
   "metadata": {},
   "source": [
    "### 예시코드(활용 예시)"
   ]
  },
  {
   "cell_type": "code",
   "execution_count": null,
   "id": "c964be1f-06c9-45f9-8336-8b92d803112d",
   "metadata": {},
   "outputs": [],
   "source": []
  },
  {
   "cell_type": "code",
   "execution_count": null,
   "id": "88fb22fc-2f61-4206-8e9a-744b07257cf8",
   "metadata": {},
   "outputs": [],
   "source": []
  },
  {
   "cell_type": "code",
   "execution_count": null,
   "id": "39e8f3f8-34e4-4825-be19-68b806bf7735",
   "metadata": {},
   "outputs": [],
   "source": []
  },
  {
   "cell_type": "markdown",
   "id": "cb6965aa-67b1-4043-8603-43b3793478d1",
   "metadata": {},
   "source": [
    "## 모델2"
   ]
  },
  {
   "cell_type": "code",
   "execution_count": null,
   "id": "69c43f85-5dd5-48da-bf0a-377ca498a859",
   "metadata": {},
   "outputs": [],
   "source": []
  },
  {
   "cell_type": "markdown",
   "id": "2324e369-32a4-4f48-b6a0-734e16d1cf64",
   "metadata": {},
   "source": [
    "### API 스샷 -> 예시 코드"
   ]
  },
  {
   "cell_type": "code",
   "execution_count": null,
   "id": "b8248d21-d435-45a6-a2d4-586a3e305fc7",
   "metadata": {},
   "outputs": [],
   "source": []
  },
  {
   "cell_type": "markdown",
   "id": "1e75e8cc-377a-4811-bf89-d00819ff6fda",
   "metadata": {},
   "source": [
    "### 파라미터 설명"
   ]
  },
  {
   "cell_type": "code",
   "execution_count": null,
   "id": "8c6a23b1-6959-4745-9132-2fe28fa5fe89",
   "metadata": {},
   "outputs": [],
   "source": []
  },
  {
   "cell_type": "markdown",
   "id": "fa60ccdc-8cf9-4de2-b648-b9214aa6e989",
   "metadata": {},
   "source": [
    "### 예시코드(활용 예시)"
   ]
  },
  {
   "cell_type": "code",
   "execution_count": null,
   "id": "d28b9a95-72b7-4aef-a545-71e77eccfd8d",
   "metadata": {},
   "outputs": [],
   "source": []
  },
  {
   "cell_type": "code",
   "execution_count": null,
   "id": "c8cc6b25-76cb-4f83-8442-ad868498e29a",
   "metadata": {},
   "outputs": [],
   "source": []
  },
  {
   "cell_type": "code",
   "execution_count": null,
   "id": "530d90be-f284-4cc4-b9bf-c4f488155985",
   "metadata": {},
   "outputs": [],
   "source": []
  },
  {
   "cell_type": "code",
   "execution_count": 7,
   "id": "14fb7e03-549b-4707-b11f-945678aa8ad8",
   "metadata": {},
   "outputs": [],
   "source": [
    "# ---------------------------------------------------------"
   ]
  },
  {
   "cell_type": "markdown",
   "id": "4454f0a0-6a60-457d-945d-e94f11b341f1",
   "metadata": {},
   "source": [
    "`import` 어쩌고 모음\n"
   ]
  }
 ],
 "metadata": {
  "kernelspec": {
   "display_name": "Python 3 (ipykernel)",
   "language": "python",
   "name": "python3"
  },
  "language_info": {
   "codemirror_mode": {
    "name": "ipython",
    "version": 3
   },
   "file_extension": ".py",
   "mimetype": "text/x-python",
   "name": "python",
   "nbconvert_exporter": "python",
   "pygments_lexer": "ipython3",
   "version": "3.8.8"
  }
 },
 "nbformat": 4,
 "nbformat_minor": 5
}

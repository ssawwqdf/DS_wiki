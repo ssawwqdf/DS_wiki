{
 "cells": [
  {
   "cell_type": "markdown",
   "id": "58381f8d-6b55-40eb-98c2-53834023a382",
   "metadata": {
    "id": "58381f8d-6b55-40eb-98c2-53834023a382"
   },
   "source": [
    "# 1. 회귀분석 개념\n",
    "* 예제 코드 사용 데이터셋: 보스턴 주택 가격  "
   ]
  },
  {
   "cell_type": "markdown",
   "id": "7fb8a95f-5421-4100-b2eb-cdf9820ae485",
   "metadata": {
    "id": "7fb8a95f-5421-4100-b2eb-cdf9820ae485"
   },
   "source": [
    "들어가야할 개념 : 선형회귀 개념(w1x1+w2x2=y) 다항회귀 개념(w1x^2+w2x^2=y),다중공선성(상관관계 분석), 회귀평가지표, 규제선형모델(릿지회귀, 라쏘회귀, 엘라스틱넷) 회귀트리(RF,XGB,LGBM), pycaret을 통한 모델 성능 비교 "
   ]
  },
  {
   "cell_type": "markdown",
   "id": "c40032df-1f30-480c-9390-559486c966dd",
   "metadata": {
    "id": "c40032df-1f30-480c-9390-559486c966dd"
   },
   "source": [
    "## 1-1. 선형 회귀"
   ]
  },
  {
   "cell_type": "markdown",
   "id": "d0ead318-5642-4459-93b9-087846440976",
   "metadata": {
    "id": "d0ead318-5642-4459-93b9-087846440976"
   },
   "source": [
    "## 1-2. 다항 회귀"
   ]
  },
  {
   "cell_type": "markdown",
   "id": "ARxE65C-BFWa",
   "metadata": {
    "id": "ARxE65C-BFWa"
   },
   "source": [
    "## 1-3. 규제 선형 모델"
   ]
  },
  {
   "cell_type": "markdown",
   "id": "XrxiiUa4Bcmx",
   "metadata": {
    "id": "XrxiiUa4Bcmx"
   },
   "source": [
    "## 1-4. 회귀트리"
   ]
  },
  {
   "cell_type": "markdown",
   "id": "gSithECIDVWQ",
   "metadata": {
    "id": "gSithECIDVWQ"
   },
   "source": [
    "## 1-5. 다중공선성"
   ]
  },
  {
   "cell_type": "markdown",
   "id": "uDet9dQHDX5o",
   "metadata": {
    "id": "uDet9dQHDX5o"
   },
   "source": [
    "## 1-6. 회귀 평가 지표"
   ]
  },
  {
   "cell_type": "markdown",
   "id": "599bf1c8-39c1-483d-84ab-d0d662334b1f",
   "metadata": {
    "id": "599bf1c8-39c1-483d-84ab-d0d662334b1f"
   },
   "source": [
    "# 2. 회귀분석 모델 설명 및 코드"
   ]
  },
  {
   "cell_type": "markdown",
   "id": "87cb0427-75a2-4959-b4ae-eccd681b2740",
   "metadata": {
    "id": "87cb0427-75a2-4959-b4ae-eccd681b2740"
   },
   "source": [
    "이런이런 모델이 있다."
   ]
  },
  {
   "cell_type": "markdown",
   "id": "059c11e2-9b04-419e-b6af-3375cc30e160",
   "metadata": {
    "id": "059c11e2-9b04-419e-b6af-3375cc30e160"
   },
   "source": [
    "## 2-1. Linear Regression <선형회귀>"
   ]
  },
  {
   "cell_type": "markdown",
   "id": "e6926527-d5a3-4693-b2b4-0a126f11e1d8",
   "metadata": {
    "id": "e6926527-d5a3-4693-b2b4-0a126f11e1d8"
   },
   "source": [
    "### API 스샷 -> 예시 코드"
   ]
  },
  {
   "cell_type": "markdown",
   "id": "934ccfb6-b828-4328-a534-abc9a0ac685f",
   "metadata": {
    "id": "934ccfb6-b828-4328-a534-abc9a0ac685f"
   },
   "source": [
    "### 파라미터 설명"
   ]
  },
  {
   "cell_type": "markdown",
   "id": "9c45ef1d-170d-4b7f-a156-4a6d77b771c4",
   "metadata": {
    "id": "9c45ef1d-170d-4b7f-a156-4a6d77b771c4"
   },
   "source": [
    "### 예시코드(활용 예시)"
   ]
  },
  {
   "cell_type": "markdown",
   "id": "cb6965aa-67b1-4043-8603-43b3793478d1",
   "metadata": {
    "id": "cb6965aa-67b1-4043-8603-43b3793478d1"
   },
   "source": [
    "## 2-2. PolynomialFeatures <다항회귀>\n",
    "* ref : https://inuplace.tistory.com/515"
   ]
  },
  {
   "cell_type": "markdown",
   "id": "2324e369-32a4-4f48-b6a0-734e16d1cf64",
   "metadata": {
    "id": "2324e369-32a4-4f48-b6a0-734e16d1cf64"
   },
   "source": [
    "### API 스샷 -> 예시 코드"
   ]
  },
  {
   "cell_type": "markdown",
   "id": "1e75e8cc-377a-4811-bf89-d00819ff6fda",
   "metadata": {
    "id": "1e75e8cc-377a-4811-bf89-d00819ff6fda"
   },
   "source": [
    "### 파라미터 설명"
   ]
  },
  {
   "cell_type": "markdown",
   "id": "fa60ccdc-8cf9-4de2-b648-b9214aa6e989",
   "metadata": {
    "id": "fa60ccdc-8cf9-4de2-b648-b9214aa6e989"
   },
   "source": [
    "### 예시코드(활용 예시)"
   ]
  },
  {
   "cell_type": "markdown",
   "id": "2L5uZ8CdCPik",
   "metadata": {
    "id": "2L5uZ8CdCPik"
   },
   "source": [
    "## 2-3. Ridge regression <릿지회귀 - 규제>"
   ]
  },
  {
   "cell_type": "markdown",
   "id": "5lZkazxqCPil",
   "metadata": {
    "id": "5lZkazxqCPil"
   },
   "source": [
    "### API 스샷 -> 예시 코드"
   ]
  },
  {
   "cell_type": "markdown",
   "id": "zvCpDphiCPim",
   "metadata": {
    "id": "zvCpDphiCPim"
   },
   "source": [
    "### 파라미터 설명"
   ]
  },
  {
   "cell_type": "markdown",
   "id": "2LL4B7zVCPim",
   "metadata": {
    "id": "2LL4B7zVCPim"
   },
   "source": [
    "### 예시코드(활용 예시)"
   ]
  },
  {
   "cell_type": "markdown",
   "id": "3I6uS8hRCwIC",
   "metadata": {
    "id": "3I6uS8hRCwIC"
   },
   "source": [
    "## 2-4. Lasso regression <라쏘회귀 - 규제>"
   ]
  },
  {
   "cell_type": "markdown",
   "id": "FiI2VdOmCwIC",
   "metadata": {
    "id": "FiI2VdOmCwIC"
   },
   "source": [
    "### API 스샷 -> 예시 코드"
   ]
  },
  {
   "cell_type": "markdown",
   "id": "i6Nka7OqCwID",
   "metadata": {
    "id": "i6Nka7OqCwID"
   },
   "source": [
    "### 파라미터 설명"
   ]
  },
  {
   "cell_type": "markdown",
   "id": "AKy3CZ6HCwIE",
   "metadata": {
    "id": "AKy3CZ6HCwIE"
   },
   "source": [
    "### 예시코드(활용 예시)"
   ]
  },
  {
   "cell_type": "markdown",
   "id": "BreussLOC8rb",
   "metadata": {
    "id": "BreussLOC8rb"
   },
   "source": [
    "## 2-5. Elsatic-net <엘라스틱 넷 - 규제>"
   ]
  },
  {
   "cell_type": "markdown",
   "id": "OOJGKPNMC8rc",
   "metadata": {
    "id": "OOJGKPNMC8rc"
   },
   "source": [
    "### API 스샷 -> 예시 코드"
   ]
  },
  {
   "cell_type": "markdown",
   "id": "iwS42O8UC8rd",
   "metadata": {
    "id": "iwS42O8UC8rd"
   },
   "source": [
    "### 파라미터 설명"
   ]
  },
  {
   "cell_type": "markdown",
   "id": "0BgJOmy7C8re",
   "metadata": {
    "id": "0BgJOmy7C8re"
   },
   "source": [
    "### 예시코드(활용 예시)"
   ]
  },
  {
   "cell_type": "markdown",
   "id": "0P91hROuDHBE",
   "metadata": {
    "id": "0P91hROuDHBE"
   },
   "source": [
    "## 2-6. Random Forest regression <랜덤포레스트 회귀 - 회귀트리>"
   ]
  },
  {
   "cell_type": "markdown",
   "id": "Da4PbYbfDHBF",
   "metadata": {
    "id": "Da4PbYbfDHBF"
   },
   "source": [
    "### API 스샷 -> 예시 코드"
   ]
  },
  {
   "cell_type": "markdown",
   "id": "pyc9SQZ4DHBG",
   "metadata": {
    "id": "pyc9SQZ4DHBG"
   },
   "source": [
    "### 파라미터 설명"
   ]
  },
  {
   "cell_type": "markdown",
   "id": "fQhcFEHMDHBG",
   "metadata": {
    "id": "fQhcFEHMDHBG"
   },
   "source": [
    "### 예시코드(활용 예시)"
   ]
  },
  {
   "cell_type": "markdown",
   "id": "JaKdE5F2DHTy",
   "metadata": {
    "id": "JaKdE5F2DHTy"
   },
   "source": [
    "## 2-7. Extreme Gradient Boosting regression <XGB - 회귀트리>"
   ]
  },
  {
   "cell_type": "markdown",
   "id": "qqGHfN4kDHTy",
   "metadata": {
    "id": "qqGHfN4kDHTy"
   },
   "source": [
    "### API 스샷 -> 예시 코드"
   ]
  },
  {
   "cell_type": "markdown",
   "id": "llQSTstzDHTy",
   "metadata": {
    "id": "llQSTstzDHTy"
   },
   "source": [
    "### 파라미터 설명"
   ]
  },
  {
   "cell_type": "markdown",
   "id": "kdMiDuzjDHTz",
   "metadata": {
    "id": "kdMiDuzjDHTz"
   },
   "source": [
    "### 예시코드(활용 예시)"
   ]
  },
  {
   "cell_type": "markdown",
   "id": "z-fuv5sODHhQ",
   "metadata": {
    "id": "z-fuv5sODHhQ"
   },
   "source": [
    "## 2-8. Light Gradient Boosting regression <LGBM - 회귀트리>"
   ]
  },
  {
   "cell_type": "markdown",
   "id": "g2HjN23NDHhR",
   "metadata": {
    "id": "g2HjN23NDHhR"
   },
   "source": [
    "### API 스샷 -> 예시 코드"
   ]
  },
  {
   "cell_type": "markdown",
   "id": "JGdeajvNDHhR",
   "metadata": {
    "id": "JGdeajvNDHhR"
   },
   "source": [
    "### 파라미터 설명"
   ]
  },
  {
   "cell_type": "markdown",
   "id": "txWtoAd6DHhS",
   "metadata": {
    "id": "txWtoAd6DHhS"
   },
   "source": [
    "### 예시코드(활용 예시)"
   ]
  },
  {
   "cell_type": "markdown",
   "id": "YLIvqu85GY1w",
   "metadata": {
    "id": "YLIvqu85GY1w"
   },
   "source": [
    "## 2-9. Catboost regression <LGBM - 회귀트리>"
   ]
  },
  {
   "cell_type": "markdown",
   "id": "1ErBNw45GY1x",
   "metadata": {
    "id": "1ErBNw45GY1x"
   },
   "source": [
    "### API 스샷 -> 예시 코드"
   ]
  },
  {
   "cell_type": "markdown",
   "id": "UFwW602xGY1y",
   "metadata": {
    "id": "UFwW602xGY1y"
   },
   "source": [
    "### 파라미터 설명"
   ]
  },
  {
   "cell_type": "markdown",
   "id": "QkelXp1RGY1y",
   "metadata": {
    "id": "QkelXp1RGY1y"
   },
   "source": [
    "### 예시코드(활용 예시)"
   ]
  },
  {
   "cell_type": "markdown",
   "id": "uSD7BkOpFIrB",
   "metadata": {
    "id": "uSD7BkOpFIrB"
   },
   "source": [
    "# 3. pycaret을 통한 모델 성능비교\n",
    "* 데이터의 유형 혹은 파생변수에 따라서 모델의 성능이 다르다.\n",
    "* pycaret의 AUTO ML을 통해 빠르게 여러 모델의 성능을 확인할 수 있다.\n",
    "* pycaret을 통해 모델을 선정하고, 파라미터 튜닝 혹은 앙상블하여 유의미하게 활용할 수 있다.\n",
    "* pycaret은 모델 성능 참고용으로 활용하고 튜닝, 앙상블은 사람이 직접하는 것이 좋다 (튜닝의 경우 pycaret보다 optuna 성능이 뛰어남) "
   ]
  },
  {
   "cell_type": "markdown",
   "id": "4454f0a0-6a60-457d-945d-e94f11b341f1",
   "metadata": {
    "id": "4454f0a0-6a60-457d-945d-e94f11b341f1"
   },
   "source": [
    "# 4. 회귀모델 `import` 모음\n"
   ]
  }
 ],
 "metadata": {
  "colab": {
   "collapsed_sections": [],
   "name": "회귀분석_최상현.ipynb",
   "provenance": []
  },
  "kernelspec": {
   "display_name": "Python 3 (ipykernel)",
   "language": "python",
   "name": "python3"
  },
  "language_info": {
   "codemirror_mode": {
    "name": "ipython",
    "version": 3
   },
   "file_extension": ".py",
   "mimetype": "text/x-python",
   "name": "python",
   "nbconvert_exporter": "python",
   "pygments_lexer": "ipython3",
   "version": "3.8.8"
  },
  "toc-autonumbering": false
 },
 "nbformat": 4,
 "nbformat_minor": 5
}
